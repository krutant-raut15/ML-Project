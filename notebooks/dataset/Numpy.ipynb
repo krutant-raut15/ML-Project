{
 "cells": [
  {
   "cell_type": "markdown",
   "id": "1cd8890e",
   "metadata": {},
   "source": [
    "#### Numpy Array Creation"
   ]
  },
  {
   "cell_type": "code",
   "execution_count": 2,
   "id": "3132264e",
   "metadata": {},
   "outputs": [],
   "source": [
    "import numpy as np"
   ]
  },
  {
   "cell_type": "code",
   "execution_count": null,
   "id": "eb71b9d2",
   "metadata": {},
   "outputs": [
    {
     "data": {
      "text/plain": [
       "array([0.  , 0.25, 0.5 , 0.75, 1.  ])"
      ]
     },
     "execution_count": 3,
     "metadata": {},
     "output_type": "execute_result"
    }
   ],
   "source": [
    "### Create a array\n",
    "np.linspace(0,1,5)  ### "
   ]
  },
  {
   "cell_type": "code",
   "execution_count": 13,
   "id": "c551b5c8",
   "metadata": {},
   "outputs": [
    {
     "data": {
      "text/plain": [
       "array([[ 4.70082421,  1.59890418, -2.21627095],\n",
       "       [ 2.99345431,  2.23308932,  1.66333781]])"
      ]
     },
     "execution_count": 13,
     "metadata": {},
     "output_type": "execute_result"
    }
   ],
   "source": [
    "np.random.normal(1,2,(2,3))"
   ]
  },
  {
   "cell_type": "code",
   "execution_count": 25,
   "id": "ad059a85",
   "metadata": {},
   "outputs": [
    {
     "name": "stdout",
     "output_type": "stream",
     "text": [
      "[7]\n",
      "[[5 7 8]]\n",
      "Three dimension array \n",
      " [[[5 6 6 8 5]\n",
      "  [5 9 8 5 5]\n",
      "  [8 6 9 8 8]\n",
      "  [5 7 9 8 9]]\n",
      "\n",
      " [[6 9 6 6 9]\n",
      "  [9 7 7 7 5]\n",
      "  [8 9 5 5 7]\n",
      "  [5 5 7 8 7]]\n",
      "\n",
      " [[7 6 7 7 7]\n",
      "  [5 7 9 6 8]\n",
      "  [8 7 7 5 9]\n",
      "  [7 9 5 6 8]]]\n"
     ]
    }
   ],
   "source": [
    "## Random Creation\n",
    "x1=np.random.randint(5,10,(1))  ## one dimentional array\n",
    "x2=np.random.randint(5,10,(1,3))\n",
    "x3 = np.random.randint(5,10,(3,4,5))\n",
    "print(x1)\n",
    "print(x2)\n",
    "print(\"Three dimension array \\n\",x3)"
   ]
  },
  {
   "cell_type": "code",
   "execution_count": 26,
   "id": "9d04eba1",
   "metadata": {},
   "outputs": [
    {
     "name": "stdout",
     "output_type": "stream",
     "text": [
      "3\n",
      "(3, 4, 5)\n",
      "60\n"
     ]
    }
   ],
   "source": [
    "print(x3.ndim)\n",
    "print(x3.shape)\n",
    "print(x3.size)"
   ]
  },
  {
   "cell_type": "code",
   "execution_count": null,
   "id": "499537c3",
   "metadata": {},
   "outputs": [],
   "source": []
  }
 ],
 "metadata": {
  "kernelspec": {
   "display_name": "base",
   "language": "python",
   "name": "python3"
  },
  "language_info": {
   "codemirror_mode": {
    "name": "ipython",
    "version": 3
   },
   "file_extension": ".py",
   "mimetype": "text/x-python",
   "name": "python",
   "nbconvert_exporter": "python",
   "pygments_lexer": "ipython3",
   "version": "3.13.5"
  }
 },
 "nbformat": 4,
 "nbformat_minor": 5
}
